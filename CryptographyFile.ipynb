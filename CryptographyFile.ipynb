{
 "cells": [
  {
   "cell_type": "code",
   "execution_count": 3,
   "id": "9b190565",
   "metadata": {},
   "outputs": [
    {
     "name": "stdout",
     "output_type": "stream",
     "text": [
      "Collecting pyCryptodome\n",
      "  Downloading pycryptodome-3.12.0-cp35-abi3-macosx_10_9_x86_64.whl (1.5 MB)\n",
      "\u001b[K     |████████████████████████████████| 1.5 MB 1.1 MB/s eta 0:00:01\n",
      "\u001b[?25hInstalling collected packages: pyCryptodome\n",
      "Successfully installed pyCryptodome-3.12.0\n",
      "\u001b[33mWARNING: You are using pip version 20.1.1; however, version 21.3.1 is available.\n",
      "You should consider upgrading via the '/Library/Frameworks/Python.framework/Versions/3.8/bin/python3.8 -m pip install --upgrade pip' command.\u001b[0m\n"
     ]
    }
   ],
   "source": [
    "!pip3 install pyCryptodome"
   ]
  },
  {
   "cell_type": "markdown",
   "id": "a657ba50",
   "metadata": {},
   "source": [
    "## Caeser Cipher"
   ]
  },
  {
   "cell_type": "code",
   "execution_count": 7,
   "id": "cbc73c4d",
   "metadata": {},
   "outputs": [
    {
     "name": "stdout",
     "output_type": "stream",
     "text": [
      "Enter Text: EtTuBrute\n",
      "Enter Key: 6\n",
      "Encoded Message:  KzZaHxazk\n",
      "Decoded Message:  EtTuBrute\n"
     ]
    }
   ],
   "source": [
    "def encrypt(P,k):\n",
    "    answer=\"\"\n",
    "    for p in P:\n",
    "        \n",
    "        if (p.isupper()):\n",
    "            answer += chr( (ord(p)+k-65)%26 + 65 )\n",
    "\n",
    "        else:\n",
    "            answer += chr( (ord(p)+k-97)%26 + 97 )\n",
    "\n",
    "    return answer\n",
    "\n",
    "def decrypt(P,k):\n",
    "    answer=\"\"\n",
    "    for p in P:\n",
    "        \n",
    "        if (p.isupper()):\n",
    "            answer += chr( (ord(p)-k-65)%26 + 65 )\n",
    "\n",
    "        else:\n",
    "            answer += chr( (ord(p)-k-97)%26 + 97 )\n",
    "\n",
    "    return answer\n",
    "\n",
    "P = input(\"Enter Text: \")\n",
    "k = int(input(\"Enter Key: \"))\n",
    "\n",
    "encrypted = encrypt(P,k)\n",
    "decrypted = decrypt(encrypted,k)\n",
    "\n",
    "print(\"Encoded Message: \", encrypted)\n",
    "print(\"Decoded Message: \", decrypted)"
   ]
  },
  {
   "cell_type": "markdown",
   "id": "443738f8",
   "metadata": {},
   "source": [
    "## Multiplicative Cipher Encryption"
   ]
  },
  {
   "cell_type": "code",
   "execution_count": 3,
   "id": "420e24c8",
   "metadata": {},
   "outputs": [
    {
     "name": "stdout",
     "output_type": "stream",
     "text": [
      "Enter Text: hdsvkk\n",
      "Enter Key: 4\n",
      "Encoded Message:  hvoxqq\n"
     ]
    }
   ],
   "source": [
    "def encrypt(P,k):\n",
    "    answer=\"\"\n",
    "    for p in P:\n",
    "        \n",
    "        if (p.isupper()):\n",
    "            answer += chr( (ord(p)*k-65)%26 + 65 )\n",
    "\n",
    "        else:\n",
    "            answer += chr( (ord(p)*k-97)%26 + 97 )\n",
    "\n",
    "    return answer\n",
    "\n",
    "P = input(\"Enter Text: \")\n",
    "n = int(input(\"Enter Key: \"))\n",
    "\n",
    "encrypted = encrypt(P,k)\n",
    "\n",
    "print(\"Encoded Message: \", encrypted)\n"
   ]
  },
  {
   "cell_type": "markdown",
   "id": "2de5ef16",
   "metadata": {},
   "source": [
    "## Eucledian Algorithm (Basic)"
   ]
  },
  {
   "cell_type": "code",
   "execution_count": 13,
   "id": "466f8973",
   "metadata": {},
   "outputs": [
    {
     "name": "stdout",
     "output_type": "stream",
     "text": [
      "Enter a and b to demonstrate Euclidean Algo: 36 56\n",
      "gcd of 36 and 56 is 4\n"
     ]
    }
   ],
   "source": [
    "def gcd(a, b):\n",
    "    if a == 0 :\n",
    "        return b\n",
    "\n",
    "    return gcd(b%a, a)\n",
    "\n",
    "a, b = input(\"Enter a and b to demonstrate Euclidean Algo: \").split()\n",
    "a, b = int(a), int(b)\n",
    "print(\"GCD of {} and {} is {}\".format(a,b,gcd(a,b)))\n"
   ]
  },
  {
   "cell_type": "markdown",
   "id": "5916f2cb",
   "metadata": {},
   "source": [
    "## Eucledian Algorithm (EXtended)"
   ]
  },
  {
   "cell_type": "code",
   "execution_count": 17,
   "id": "1d270186",
   "metadata": {},
   "outputs": [
    {
     "name": "stdout",
     "output_type": "stream",
     "text": [
      "Enter a and b to demonstrate EXTENDED Euclidean Algo: 5 35\n",
      "GCD of 5 and 35 is 5\n"
     ]
    }
   ],
   "source": [
    "def gcdExtended(a, b): \n",
    "  \n",
    "    if a == 0 :  \n",
    "        return b, 0, 1\n",
    "             \n",
    "    gcd, x1, y1 = gcdExtended(b%a, a) \n",
    "     \n",
    "    x = y1 - (b//a) * x1 \n",
    "    y = x1 \n",
    "     \n",
    "    return gcd, x, y\n",
    "      \n",
    "a, b = input(\"Enter a and b to demonstrate EXTENDED Euclidean Algo: \").split()\n",
    "a, b = int(a), int(b)\n",
    "g, x, y = gcdExtended(a, b) \n",
    "print(\"GCD of {} and {} is {}\".format(a,b,g))"
   ]
  },
  {
   "cell_type": "markdown",
   "id": "be011c1d",
   "metadata": {},
   "source": [
    "## Multiplicative inverse using extended Euclidean"
   ]
  },
  {
   "cell_type": "code",
   "execution_count": 21,
   "id": "28f3df83",
   "metadata": {},
   "outputs": [
    {
     "name": "stdout",
     "output_type": "stream",
     "text": [
      "Enter a and b to demonstrate Multiplicative Inverse Using Euclidean Algo: 5 11\n",
      "Multiplicative Inverse is 9\n"
     ]
    }
   ],
   "source": [
    "def multiplicative_inverse(A, M):\n",
    "    \n",
    "    gcd, x, y = gcdExtended(A, M)\n",
    "    \n",
    "    if x < 0:\n",
    "        x += M\n",
    "    \n",
    "    return x\n",
    "\n",
    "def gcdExtended(a, b): \n",
    "  \n",
    "    if a == 0 :  \n",
    "        return b, 0, 1\n",
    "             \n",
    "    gcd, x1, y1 = gcdExtended(b%a, a) \n",
    "     \n",
    "    x = y1 - (b//a) * x1 \n",
    "    y = x1 \n",
    "     \n",
    "    return gcd, x, y\n",
    "\n",
    "a, b = input(\"Enter a and b to demonstrate Multiplicative Inverse Using Euclidean Algo: \").split()\n",
    "a, b = int(a), int(b)\n",
    "\n",
    "print(\"Multiplicative Inverse is {}\".format(multiplicative_inverse(a, b)))"
   ]
  },
  {
   "cell_type": "markdown",
   "id": "ac805f65",
   "metadata": {},
   "source": [
    "## Encrypt the text \"The house is being sold tonight\" Using Vignere Cipher with Key= “Dollar\""
   ]
  },
  {
   "cell_type": "code",
   "execution_count": 24,
   "id": "9bd86a90",
   "metadata": {},
   "outputs": [
    {
     "name": "stdout",
     "output_type": "stream",
     "text": [
      "Ciphertext : WVPEHFXGPEIJWPPTNXWGZWDKWCYTGYW\n",
      "Original/Decrypted Text : THETHOUSETISTBEINGTSOLDTTONIGHT\n"
     ]
    }
   ],
   "source": [
    "def generateKey(string, key):\n",
    "    key = list(key)\n",
    "    if len(string) == len(key):\n",
    "        return(key)\n",
    "    else:\n",
    "        for i in range(len(string) - len(key)):\n",
    "            key.append(key[i % len(key)])\n",
    "    return(\"\".join(key))\n",
    "     \n",
    "\n",
    "def cipherText(string, key):\n",
    "    cipher_text = []\n",
    "    for i in range(len(string)):\n",
    "        x = (ord(string[i]) + ord(key[i])) % 26\n",
    "        x += ord('A')\n",
    "        cipher_text.append(chr(x))\n",
    "    return(\"\".join(cipher_text))\n",
    "\n",
    "def originalText(cipher_text, key):\n",
    "    orig_text = []\n",
    "    for i in range(len(cipher_text)):\n",
    "        x = (ord(cipher_text[i]) - ord(key[i]) + 26) % 26\n",
    "        x += ord('A')\n",
    "        orig_text.append(chr(x))\n",
    "    return(\"\".join(orig_text))\n",
    "     \n",
    "\n",
    "string = \"THE HOUSE IS BEING SOLD TONIGHT\"\n",
    "keyword = \"DOLLAR\"\n",
    "key = generateKey(string, keyword)\n",
    "cipher_text = cipherText(string,key)\n",
    "print(\"Ciphertext :\", cipher_text)\n",
    "print(\"Original/Decrypted Text :\", originalText(cipher_text, key))"
   ]
  },
  {
   "cell_type": "markdown",
   "id": "76f11400",
   "metadata": {},
   "source": [
    "## Encrypt the text \"The house is being sold tonight\" Using Affine Cipher key=(15,20)"
   ]
  },
  {
   "cell_type": "code",
   "execution_count": 26,
   "id": "3c319acb",
   "metadata": {},
   "outputs": [
    {
     "name": "stdout",
     "output_type": "stream",
     "text": [
      "Encrypted Text: TVCVWIECKEJCKHGEWDNTWHKGVT\n",
      "Decrypted Text: THEHOUSEISBEINGSOLDTONIGHT\n"
     ]
    }
   ],
   "source": [
    "def gcdExtended(a, b):  \n",
    "    if a == 0 :  \n",
    "        return b, 0, 1             \n",
    "    gcd, x1, y1 = gcdExtended(b%a, a)    \n",
    "    x = y1 - (b//a) * x1 \n",
    "    y = x1 \n",
    "    return gcd, x, y\n",
    "\n",
    "def modinv(a, m):\n",
    "    gcd, x, y = gcdExtended(a, m)\n",
    "    if gcd != 1:\n",
    "        return None \n",
    "    else:\n",
    "        return x % m\n",
    "\n",
    "def affine_encrypt(text, key):\n",
    "    return ''.join([chr(((key[0]*(ord(t)-ord('A'))+key[1])%26)+ord('A')) for t in text.upper().replace(' ', '') ])\n",
    "\n",
    "def affine_decrypt(cipher, key):\n",
    "    return ''.join([chr(((modinv(key[0],26)*(ord(c)-ord('A')-key[1]))% 26)+ord('A')) for c in cipher ])\n",
    "\n",
    "\n",
    "text = 'THE HOUSE IS BEING SOLD TONIGHT'\n",
    "key = [15, 20]\n",
    "\n",
    "affine_encrypted_text = affine_encrypt(text, key)\n",
    "\n",
    "print('Encrypted Text: {}'.format( affine_encrypted_text ))\n",
    "print('Decrypted Text: {}'.format( affine_decrypt(affine_encrypted_text, key) ))"
   ]
  },
  {
   "cell_type": "markdown",
   "id": "6213d84e",
   "metadata": {},
   "source": [
    "## Playfair Cipher Encryption"
   ]
  },
  {
   "cell_type": "code",
   "execution_count": 14,
   "id": "0c4c85d9",
   "metadata": {},
   "outputs": [
    {
     "name": "stdout",
     "output_type": "stream",
     "text": [
      "Enter key: 5\n",
      "Plain Text: Encrypt This\n",
      "H K ,  B S ,  U T ,  S Y ,  S I ,  H T , \n"
     ]
    }
   ],
   "source": [
    "def convertPlainTextToDiagraphs (plainText):\n",
    "    for s in range(0,len(plainText)+1,2):\n",
    "        if s<len(plainText)-1:\n",
    "            if plainText[s]==plainText[s+1]:\n",
    "                plainText=plainText[:s+1]+'X'+plainText[s+1:]\n",
    "    if len(plainText)%2 != 0:\n",
    "        plainText = plainText[:]+'X'\n",
    "    return plainText\n",
    "\n",
    "def generateKeyMatrix (key): \n",
    "    matrix_5x5 = [[0 for i in range (5)] for j in range(5)]\n",
    "    simpleKeyArr = []\n",
    "    for c in key:\n",
    "        if c not in simpleKeyArr:\n",
    "            if c == 'J':\n",
    "                simpleKeyArr.append('I')\n",
    "            else:\n",
    "                simpleKeyArr.append(c)\n",
    "    is_I_exist = \"I\" in simpleKeyArr\n",
    "    for i in range(65,91):\n",
    "        if chr(i) not in simpleKeyArr:\n",
    "            if i==73 and not is_I_exist:\n",
    "                simpleKeyArr.append(\"I\")\n",
    "                is_I_exist = True\n",
    "            elif i==73 or i==74 and is_I_exist:\n",
    "                pass\n",
    "            else:\n",
    "                simpleKeyArr.append(chr(i))         \n",
    "    index = 0\n",
    "    for i in range(0,5):\n",
    "        for j in range(0,5):\n",
    "            matrix_5x5[i][j] = simpleKeyArr[index]\n",
    "            index+=1\n",
    "    return matrix_5x5\n",
    "\n",
    "def indexLocator (char,cipherKeyMatrix):\n",
    "    indexOfChar = []\n",
    "    if char==\"J\":\n",
    "        char = \"I\"\n",
    "    for i,j in enumerate(cipherKeyMatrix):\n",
    "        for k,l in enumerate(j):\n",
    "            if char == l:\n",
    "                indexOfChar.append(i)\n",
    "                indexOfChar.append(k)\n",
    "                return indexOfChar\n",
    "            \n",
    "def encryption (plainText,key):\n",
    "    cipherText = []\n",
    "    keyMatrix = generateKeyMatrix(key)\n",
    "    i = 0\n",
    "    while i < len(plainText):\n",
    "        n1 = indexLocator(plainText[i],keyMatrix)\n",
    "        n2 = indexLocator(plainText[i+1],keyMatrix)\n",
    "        if n1[1] == n2[1]:\n",
    "            i1 = (n1[0] + 1) % 5\n",
    "            j1 = n1[1]\n",
    "            i2 = (n2[0] + 1) % 5\n",
    "            j2 = n2[1]\n",
    "            cipherText.append(keyMatrix[i1][j1])\n",
    "            cipherText.append(keyMatrix[i2][j2])\n",
    "            cipherText.append(\", \")\n",
    "        elif n1[0]==n2[0]:\n",
    "            i1= n1[0]\n",
    "            j1= (n1[1] + 1) % 5\n",
    "            i2= n2[0]\n",
    "            j2= (n2[1] + 1) % 5\n",
    "            cipherText.append(keyMatrix[i1][j1])\n",
    "            cipherText.append(keyMatrix[i2][j2])\n",
    "            cipherText.append(\", \")\n",
    "        else:\n",
    "            i1 = n1[0]\n",
    "            j1 = n1[1]\n",
    "            i2 = n2[0]\n",
    "            j2 = n2[1]\n",
    "            cipherText.append(keyMatrix[i1][j2])\n",
    "            cipherText.append(keyMatrix[i2][j1])\n",
    "            cipherText.append(\", \")\n",
    "        i += 2  \n",
    "    return cipherText\n",
    "\n",
    "key = input(\"Enter key: \").replace(\" \",\"\").upper()\n",
    "plainText =input(\"Plain Text: \").replace(\" \",\"\").upper()\n",
    "convertedPlainText = convertPlainTextToDiagraphs(plainText)\n",
    "cipherText = \" \".join(encryption(convertedPlainText,key))\n",
    "print(cipherText)\n"
   ]
  },
  {
   "cell_type": "markdown",
   "id": "445b2bdb",
   "metadata": {},
   "source": [
    "## Hill-Cipher"
   ]
  },
  {
   "cell_type": "code",
   "execution_count": 11,
   "id": "90db0007",
   "metadata": {},
   "outputs": [
    {
     "name": "stdout",
     "output_type": "stream",
     "text": [
      "Enter Message: HELLOO\n",
      "Enter key: HITHERSUP\n",
      "CipherText:  ESH\n"
     ]
    }
   ],
   "source": [
    "keyMatrix = [[0] * 3 for i in range(3)]\n",
    "\n",
    "messageVector = [[0] for i in range(3)]\n",
    "\n",
    "cipherMatrix = [[0] for i in range(3)]\n",
    "\n",
    "def getKeyMatrix(key):\n",
    "    k = 0\n",
    "    for i in range(3):\n",
    "        for j in range(3):\n",
    "            keyMatrix[i][j] = ord(key[k]) % 65\n",
    "            k += 1\n",
    "\n",
    "def encrypt(messageVector):\n",
    "    for i in range(3):\n",
    "        for j in range(1):\n",
    "            cipherMatrix[i][j] = 0\n",
    "            for x in range(3):\n",
    "                cipherMatrix[i][j] += (keyMatrix[i][x] * messageVector[x][j])\n",
    "            cipherMatrix[i][j] = cipherMatrix[i][j] % 26\n",
    "\n",
    "def HillCipher(message, key):\n",
    "\n",
    "    getKeyMatrix(key)\n",
    "\n",
    "    for i in range(3):\n",
    "        messageVector[i][0] = ord(message[i]) % 65\n",
    "\n",
    "    encrypt(messageVector)\n",
    "\n",
    "    CipherText = []\n",
    "    for i in range(3):\n",
    "        CipherText.append(chr(cipherMatrix[i][0] + 65))\n",
    "\n",
    "    return \"\".join(CipherText)\n",
    "\n",
    "\n",
    "message = input(\"Enter Message: \")\n",
    "key = input(\"Enter key: \")\n",
    "print(\"CipherText: \",HillCipher(message, key))"
   ]
  },
  {
   "cell_type": "markdown",
   "id": "86496577",
   "metadata": {},
   "source": [
    "## Diffie-HellmanKey Exchange Algorithm"
   ]
  },
  {
   "cell_type": "code",
   "execution_count": 11,
   "id": "56e49ae6",
   "metadata": {},
   "outputs": [
    {
     "name": "stdout",
     "output_type": "stream",
     "text": [
      "The Value of P is  23\n",
      "The Value of G is  9\n",
      "A, Choose private key: 7\n",
      "The Private Key a for A is  7\n",
      "B, Choose private key: 9\n",
      "The Private Key b for B is  9\n",
      "Secret key for the A is :  13\n",
      "Secret Key for the B is :  13\n"
     ]
    }
   ],
   "source": [
    "from random import randint\n",
    " \n",
    "P = 23\n",
    "G = 9\n",
    "\n",
    "print('The Value of P is ',P)\n",
    "print('The Value of G is ',G)\n",
    "\n",
    "private_a = int(input(\"A, Choose private key: \"))\n",
    "print('The Private Key a for A is ',private_a)\n",
    "\n",
    "gen_a = int(pow(G,private_a,P)) \n",
    "\n",
    "private_b = int(input(\"B, Choose private key: \"))\n",
    "\n",
    "print('The Private Key b for B is ',private_b)\n",
    "\n",
    "gen_b = int(pow(G,private_b,P)) \n",
    "\n",
    "secret_a = int(pow(gen_b,private_a,P))\n",
    "\n",
    "secret_b = int(pow(gen_a,private_b,P))\n",
    "\n",
    "print('Secret key for the A is : ',secret_a)\n",
    "print('Secret Key for the B is : ',secret_b)"
   ]
  },
  {
   "cell_type": "markdown",
   "id": "bcdd3697",
   "metadata": {},
   "source": [
    "## Write a program to implement encryption and decryption of message using DES."
   ]
  },
  {
   "cell_type": "code",
   "execution_count": 4,
   "id": "90d1acc9",
   "metadata": {},
   "outputs": [
    {
     "name": "stdout",
     "output_type": "stream",
     "text": [
      "b'\\xa8\\xc8\\xee\\xd5T6b?\\xb49\\x90h^r\\x8a\\xd1Q\\x97\\xa7\"\\xa8\\x1a\\xc1B+\\xef\\x7f\\x03\\xeaT(\\xc9\\xa7\\xf6\\xd2y\\xd7\\xc7d\\xa1'\n",
      "b'This is the message I am encrypting!    '\n"
     ]
    }
   ],
   "source": [
    "from Crypto.Cipher import DES\n",
    "\n",
    "def pad(text):\n",
    "    n = len(text) % 8\n",
    "    return text + (b' ' * n)\n",
    "\n",
    "\n",
    "key = b'eight888'\n",
    "text1 = b'This is the message I am encrypting!'\n",
    "\n",
    "des = DES.new(key, DES.MODE_ECB)\n",
    "\n",
    "padded_text = pad(text1)\n",
    "encrypted_text = des.encrypt(padded_text)\n",
    "\n",
    "print(encrypted_text)\n",
    "print(des.decrypt(encrypted_text))"
   ]
  },
  {
   "cell_type": "markdown",
   "id": "7b397920",
   "metadata": {},
   "source": [
    "## AES Encrpytion Decrpytion Implementation"
   ]
  },
  {
   "cell_type": "code",
   "execution_count": 5,
   "id": "ae0bad8f",
   "metadata": {},
   "outputs": [
    {
     "name": "stdout",
     "output_type": "stream",
     "text": [
      "b'\\x88\\x05\\xb6c\\xac\\xb8\\xb6\\x9fD=*\\x8d\\x02\\xb3\\r\\x9c9\\x10\\xcf)\\xdd\\x94\\x7f\\xcdP3\\r\\x8e\\xd8\\x1b\\xc6\\xa3\\xbf\\xd4\\xcf'\n",
      "--authentic--\n",
      "DecryptedText:  b'This is the message to be encrypted'\n"
     ]
    }
   ],
   "source": [
    "from Crypto.Cipher import AES\n",
    "\n",
    "plaintext= b'This is the message to be encrypted'\n",
    "key = b'Sixteen byte key'\n",
    "cipher = AES.new(key, AES.MODE_EAX)\n",
    "nonce = cipher.nonce\n",
    "ciphertext, tag = cipher.encrypt_and_digest(plaintext)\n",
    "\n",
    "print(ciphertext)\n",
    "\n",
    "key = b'Sixteen byte key'\n",
    "cipher = AES.new(key, AES.MODE_EAX, nonce=nonce)\n",
    "plaintext = cipher.decrypt(ciphertext)\n",
    "try:\n",
    "    cipher.verify(tag)\n",
    "    print(\"--authentic--\")\n",
    "    print(\"DecryptedText: \", plaintext)\n",
    "except ValueError:\n",
    "    print(\"Key incorrect or message corrupted\")"
   ]
  },
  {
   "cell_type": "markdown",
   "id": "4e98879a",
   "metadata": {},
   "source": [
    "## Write a program to implement encryption of message using RSA. Inputs:  Plain text: 6, p=7, q=17 ,Output Ciphertext=41."
   ]
  },
  {
   "cell_type": "code",
   "execution_count": 12,
   "id": "4bb3dfcd",
   "metadata": {},
   "outputs": [
    {
     "name": "stdout",
     "output_type": "stream",
     "text": [
      "Enter the message to be encrypted: 6\n",
      "Enter p: 7\n",
      "Enter q: 17\n",
      "n is :  119\n",
      "Phi is :  96\n",
      "e is :  5\n",
      "d is :  77\n",
      "Encrypted Message is:  41\n",
      "Decrypted Message is:  6\n"
     ]
    }
   ],
   "source": [
    "import math\n",
    " \n",
    "message = int(input(\"Enter the message to be encrypted: \")) \n",
    " \n",
    "p,q = int(input(\"Enter p: \")), int(input(\"Enter q: \"))\n",
    "n = p*q\n",
    "print(\"n is : \",n)\n",
    "PHI= (p-1)*(q-1)\n",
    "print(\"Phi is : \",PHI)\n",
    "d,e= None,None\n",
    "\n",
    "for i in range(2,PHI):\n",
    "    if math.gcd(i,PHI)==1:\n",
    "        e=i\n",
    "        break\n",
    "print(\"e is : \",e)\n",
    "        \n",
    "for i in range(0,10):\n",
    "    x= 1+ i*PHI\n",
    "    if x%e == 0:\n",
    "        d= int(x/e)\n",
    "        break\n",
    "    \n",
    "print(\"d is : \",d)\n",
    "        \n",
    "c= int(math.pow(message,e))%n\n",
    "\n",
    "print(\"Encrypted Message is: \", c)\n",
    "\n",
    "message_back= (c**d)%n\n",
    "print(\"Decrypted Message is: \",message_back)"
   ]
  },
  {
   "cell_type": "markdown",
   "id": "56f27c5a",
   "metadata": {},
   "source": [
    "## Generate a message digest using SHA-224, SHA-256, SHA-384, SHA-512"
   ]
  },
  {
   "cell_type": "code",
   "execution_count": 8,
   "id": "1c266384",
   "metadata": {},
   "outputs": [
    {
     "name": "stdout",
     "output_type": "stream",
     "text": [
      "Available message digest algorithms:\n",
      "{'blake2b', 'md4', 'sha3_256', 'sm3', 'shake_256', 'sha3_384', 'sha512_256', 'sha224', 'md5', 'sha384', 'whirlpool', 'sha512_224', 'sha256', 'ripemd160', 'shake_128', 'sha3_512', 'sha3_224', 'blake2s', 'sha1', 'md5-sha1', 'sha512'}\n",
      "Message:  b'Encrypt This'\n",
      "Sha-224 hash:\n",
      "722307e92d8e85aa8875704e5eb9c1b9dee3f75a21544d955e0a80ae\n",
      "Sha-256 hash:\n",
      "e93c9a3c7683a1b6dcdadfe055f13f000be274d89a2f45cc3d43147571858ebe\n",
      "Sha-384 hash:\n",
      "4dca6e4e3fe013cfaa7e53a127b30b364f658b78e23cd09a0fa200d2954982191c7cdc121af479156692297349e2e8eb\n",
      "Sha-512 hash:\n",
      "7b1cdfa99b91ef68358f29d1e1370b7e43d6de81c5c15d7a5401f1ac73cb80aab5381111d48313606cedd8ccfeb5b469b77f513480828b7802f05a5560c85aa5\n"
     ]
    }
   ],
   "source": [
    "import hashlib\n",
    "\n",
    "print(\"Available message digest algorithms:\");\n",
    "print(hashlib.algorithms_available);\n",
    "\n",
    "msg = b\"Encrypt This\"\n",
    "print(\"Message: \", msg)\n",
    "\n",
    "sha224Object = hashlib.sha224()\n",
    "sha224Object.update(msg)\n",
    "digest_sha224 = sha224Object.hexdigest()\n",
    "print(\"Sha-224 hash:\")\n",
    "print(digest_sha224)\n",
    "\n",
    "sha256Object = hashlib.sha256();\n",
    "sha256Object.update(msg);\n",
    "digest_sha256 = sha256Object.hexdigest();\n",
    "print(\"Sha-256 hash:\");\n",
    "print(digest_sha256);\n",
    "\n",
    "sha384Object = hashlib.sha384();\n",
    "sha384Object.update(msg);\n",
    "digest_sha384 = sha384Object.hexdigest();\n",
    "print(\"Sha-384 hash:\");\n",
    "print(digest_sha384);\n",
    "\n",
    "sha512Object = hashlib.sha512()\n",
    "sha512Object.update(msg)\n",
    "digest_sha512 = sha512Object.hexdigest()\n",
    "print(\"Sha-512 hash:\")\n",
    "print(digest_sha512)"
   ]
  },
  {
   "cell_type": "markdown",
   "id": "ec213ba3",
   "metadata": {},
   "source": [
    "## Create digital signature using Digital Signature Algorithm(DSA)"
   ]
  },
  {
   "cell_type": "code",
   "execution_count": 9,
   "id": "146239e2",
   "metadata": {},
   "outputs": [
    {
     "name": "stdout",
     "output_type": "stream",
     "text": [
      "Enter Message: This Message\n",
      "b'-----BEGIN PUBLIC KEY-----\\nMIIBtzCCASsGByqGSM44BAEwggEeAoGBAN2Zli0kbwDBbkC8iO9xUpPgNwPY7Qy4\\ng1QvCOS1jpwjJ61F3jfZ8/0EVRxQyGt+yCyenO9RKL166dUdcwKV9h03Seb0IiFR\\n7o9dQGk1gvj7E34FYSCh19naZyla0BIRFqBSBskf8F9RfLA1R2+ca+/x2ioKc+1S\\nrNyWpJeIvg/hAhUA/v8/FuE7AqfsHbuM5kDQqJnAe6ECgYAq9dMELYW8kxK5QS3N\\n/RGq+nDJNlxA+0cDzXcueIsevuNDa2G88xtF/WBctCTwpQw6Dcq3kQ4YxSoVT/HD\\neCKqIetoP229ZKDp8GRgulqEaeFUpa8LgN3hfMQf+seOSQumYHJbvdjAwzp3IOKg\\n5o6D3QWQEUjpjTkHbYdiWotFuwOBhQACgYEA24Wp67r5rFOiBmoMON1Fq9uekKcP\\n2kHb4aJLSNTk6cnkhRmNbxUYc2vByG6u+JHprZq+IJOMpHntplL/8viJjGNQz4bT\\nLrVp+riQHes59yvDj9yNE5wiDMDYLlvFqlfOfDSaYERknIBlJJ4S9MvsWnggi938\\nFTvSaMLD3P74BDc=\\n-----END PUBLIC KEY-----'\n",
      "185314610968439737262308560771599137923042908189436718393803556589741611506418088816277386179593\n",
      "Verification Successful\n"
     ]
    }
   ],
   "source": [
    "from Crypto.PublicKey import DSA\n",
    "from Crypto.Hash import SHA256\n",
    "from Crypto.Signature import DSS\n",
    "\n",
    "KEYSIZE= 1024\n",
    "message= input(\"Enter Message: \").encode()\n",
    "key= DSA.generate(KEYSIZE)\n",
    "\n",
    "publickey= key.publickey()\n",
    "print(publickey.exportKey())\n",
    "\n",
    "message_hash= SHA256.new(message)\n",
    "signer= DSS.new(key, 'fips-186-3')\n",
    "signature= signer.sign(message_hash)\n",
    "print(int.from_bytes(signature, \"big\", signed=False))\n",
    "\n",
    "verifier= DSS.new(key, 'fips-186-3')\n",
    "\n",
    "try:\n",
    "  verifier.verify(message_hash, signature)\n",
    "  print(\"Verification Successful\")\n",
    "except ValueError:\n",
    "  print(\"Verification Failed\")"
   ]
  }
 ],
 "metadata": {
  "kernelspec": {
   "display_name": "Python 3 (ipykernel)",
   "language": "python",
   "name": "python3"
  },
  "language_info": {
   "codemirror_mode": {
    "name": "ipython",
    "version": 3
   },
   "file_extension": ".py",
   "mimetype": "text/x-python",
   "name": "python",
   "nbconvert_exporter": "python",
   "pygments_lexer": "ipython3",
   "version": "3.8.5"
  }
 },
 "nbformat": 4,
 "nbformat_minor": 5
}
